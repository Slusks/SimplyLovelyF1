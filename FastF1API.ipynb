{
 "cells": [
  {
   "cell_type": "code",
   "execution_count": 2,
   "metadata": {},
   "outputs": [],
   "source": [
    "\n",
    "import fastf1\n",
    "import os"
   ]
  },
  {
   "cell_type": "code",
   "execution_count": null,
   "metadata": {},
   "outputs": [
    {
     "name": "stdout",
     "output_type": "stream",
     "text": [
      "not on your desktop bro\n"
     ]
    }
   ],
   "source": [
    "\n",
    "\n",
    "#this function is going to be used to check what platform I'm running this on so I dont have to put the data file on github\n",
    "cache_path = r'./dataFileDesktop'\n",
    "\n",
    "# Create the cache directory if it doesn't exist\n",
    "if not os.path.exists(cache_path):\n",
    "    os.makedirs(cache_path)\n",
    "\n",
    "if os.path.isfile(r'C:\\Programming\\SimplyLovelyF1\\dataFileDesktop'):\n",
    "    file = r'C:\\Programming\\SimplyLovelyF1\\dataFileDesktop'\n",
    "else:\n",
    "    print(\"not on your desktop bro\")\n"
   ]
  },
  {
   "cell_type": "code",
   "execution_count": 9,
   "metadata": {},
   "outputs": [
    {
     "name": "stderr",
     "output_type": "stream",
     "text": [
      "logger      WARNING \tFailed to load schedule from FastF1 backend!\n",
      "req            INFO \tNo cached data found for season_schedule. Loading data...\n",
      "_api           INFO \tFetching season schedule...\n",
      "logger      WARNING \tFailed to load schedule from F1 API backend!\n",
      "logger      WARNING \tFailed to load schedule from Ergast API backend!\n"
     ]
    },
    {
     "name": "stdout",
     "output_type": "stream",
     "text": [
      "⚠️ Skipped year 2021: Failed to load any schedule data.\n"
     ]
    },
    {
     "name": "stderr",
     "output_type": "stream",
     "text": [
      "logger      WARNING \tFailed to load schedule from FastF1 backend!\n",
      "req            INFO \tNo cached data found for season_schedule. Loading data...\n",
      "_api           INFO \tFetching season schedule...\n",
      "logger      WARNING \tFailed to load schedule from F1 API backend!\n",
      "logger      WARNING \tFailed to load schedule from Ergast API backend!\n"
     ]
    },
    {
     "name": "stdout",
     "output_type": "stream",
     "text": [
      "⚠️ Skipped year 2022: Failed to load any schedule data.\n",
      "\n",
      "❌ No lap data was collected.\n"
     ]
    }
   ],
   "source": [
    "import os\n",
    "import fastf1\n",
    "import pandas as pd\n",
    "import time\n",
    "\n",
    "# Set up cache path\n",
    "cache_path = r'./dataFileDesktop'\n",
    "if not os.path.exists(cache_path):\n",
    "    os.makedirs(cache_path)\n",
    "\n",
    "fastf1.Cache.enable_cache(cache_path)\n",
    "\n",
    "# Years and sessions to include\n",
    "years = [2021,2022]\n",
    "practice_sessions = ['FP1', 'FP2', 'FP3']\n",
    "\n",
    "all_laps = []\n",
    "\n",
    "for year in years:\n",
    "    try:\n",
    "        schedule = fastf1.get_event_schedule(year, include_testing=False)\n",
    "        for _, event in schedule.iterrows():\n",
    "            location = event['EventName']\n",
    "            for practice in practice_sessions:\n",
    "                try:\n",
    "                    session = fastf1.get_session(year, location, practice)\n",
    "                    session.load()\n",
    "                    laps = session.laps\n",
    "                    if laps.empty:\n",
    "                        print(f\"No laps for {year} {location} {practice}\")\n",
    "                        continue\n",
    "\n",
    "                    # Merge with weather data if available\n",
    "                    if session.weather_data is not None and not session.weather_data.empty:\n",
    "                        laps = laps.merge(session.weather_data, on='Time', how='left')\n",
    "                    else:\n",
    "                        laps['TrackTemperature'] = pd.NA\n",
    "                        laps['Rainfall'] = pd.NA\n",
    "\n",
    "                    # Add missing columns if not present\n",
    "                    if 'TrackTemperature' not in laps.columns:\n",
    "                        laps['TrackTemperature'] = pd.NA\n",
    "                    if 'Rainfall' not in laps.columns:\n",
    "                        laps['Rainfall'] = pd.NA\n",
    "\n",
    "                    # Extract only necessary columns\n",
    "                    subset = laps[['Driver', 'Team', 'LapNumber', 'LapTime',\n",
    "                                   'TrackTemperature', 'Rainfall']].copy()\n",
    "                    subset['Year'] = year\n",
    "                    subset['Track'] = location\n",
    "\n",
    "                    all_laps.append(subset)\n",
    "                    print(f\"✅ Added: {year} {location} {practice} - {len(subset)} laps\")\n",
    "\n",
    "                except Exception as e:\n",
    "                    print(f\"⚠️ Skipped {year} {location} {practice}: {e}\")\n",
    "                print(\"sleep 1\")\n",
    "                time.sleep(1)\n",
    "    except Exception as e:\n",
    "        print(f\"⚠️ Skipped year {year}: {e}\")\n",
    "\n",
    "# Concatenate all collected lap data\n",
    "if all_laps:\n",
    "    df = pd.concat(all_laps, ignore_index=True)\n",
    "    df = df[['Year', 'Track', 'Team', 'Driver', 'Rainfall', 'TrackTemperature', 'LapNumber', 'LapTime']]\n",
    "    df.to_csv('practice_laps_2020_2023.csv', index=False)\n",
    "    print(\"\\n✅ Data saved to practice_laps_2020_2023.csv\")\n",
    "else:\n",
    "    print(\"\\n❌ No lap data was collected.\")\n"
   ]
  },
  {
   "cell_type": "code",
   "execution_count": 14,
   "metadata": {},
   "outputs": [
    {
     "name": "stderr",
     "output_type": "stream",
     "text": [
      "logger      WARNING \tFailed to load schedule from FastF1 backend!\n",
      "req            INFO \tNo cached data found for season_schedule. Loading data...\n",
      "_api           INFO \tFetching season schedule...\n",
      "logger      WARNING \tFailed to load schedule from F1 API backend!\n",
      "logger      WARNING \tFailed to load schedule from Ergast API backend!\n"
     ]
    },
    {
     "name": "stdout",
     "output_type": "stream",
     "text": [
      "Failed to fetch 2023 schedule: Failed to load any schedule data.\n"
     ]
    }
   ],
   "source": [
    "try:\n",
    "    schedule = fastf1.get_event_schedule(2021)\n",
    "    print(schedule.head())\n",
    "except Exception as e:\n",
    "    print(f\"Failed to fetch 2023 schedule: {e}\")"
   ]
  },
  {
   "cell_type": "code",
   "execution_count": null,
   "metadata": {},
   "outputs": [],
   "source": []
  }
 ],
 "metadata": {
  "kernelspec": {
   "display_name": "Python 3",
   "language": "python",
   "name": "python3"
  },
  "language_info": {
   "codemirror_mode": {
    "name": "ipython",
    "version": 3
   },
   "file_extension": ".py",
   "mimetype": "text/x-python",
   "name": "python",
   "nbconvert_exporter": "python",
   "pygments_lexer": "ipython3",
   "version": "3.12.6"
  }
 },
 "nbformat": 4,
 "nbformat_minor": 2
}
